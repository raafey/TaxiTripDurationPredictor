{
 "cells": [
  {
   "cell_type": "markdown",
   "metadata": {},
   "source": [
    "### Libraries"
   ]
  },
  {
   "cell_type": "code",
   "execution_count": 1,
   "metadata": {},
   "outputs": [],
   "source": [
    "import numpy as np\n",
    "import pandas as pd\n",
    "import datetime as dt\n",
    "from sklearn.preprocessing import StandardScaler\n",
    "from math import radians, cos, sin, asin, sqrt"
   ]
  },
  {
   "cell_type": "markdown",
   "metadata": {},
   "source": [
    "### Linear Regression using Gradient Descent"
   ]
  },
  {
   "cell_type": "code",
   "execution_count": 2,
   "metadata": {},
   "outputs": [],
   "source": [
    "def h(dataset, thetas):\n",
    "    return np.dot(dataset, thetas)\n",
    "\n",
    "def derv_cost_func(dataset, target, thetas):\n",
    "    dataset_T = np.transpose(dataset)\n",
    "    return np.dot(dataset_T, (h(dataset, thetas) - target))\n",
    "\n",
    "def gradient_descent(dataset, target, learning_rate = 0.01, num_itrs = 30000):\n",
    "    # randomly select thetas\n",
    "    thetas = np.random.rand(dataset.shape[1],)\n",
    "    \n",
    "    # updating thetas\n",
    "    for i in range(num_itrs):    \n",
    "        thetas_new = thetas - (learning_rate * (1 / float(dataset.shape[0])) *(derv_cost_func(dataset, target, thetas)))\n",
    "        thetas = thetas_new\n",
    "    \n",
    "    return thetas"
   ]
  },
  {
   "cell_type": "markdown",
   "metadata": {},
   "source": [
    "### Distance Formulas"
   ]
  },
  {
   "cell_type": "code",
   "execution_count": 3,
   "metadata": {},
   "outputs": [],
   "source": [
    "# function that takes in pickup and dropoff coordinates and calculates distance\n",
    "def haversine(lon_1, lat_1, lon_2, lat_2):\n",
    "    lon_1, lat_1, lon_2, lat_2 = map(radians, [lon_1, lat_1, lon_2, lat_2])\n",
    "\n",
    "    d_lon = lon_2 - lon_1 \n",
    "    d_lat = lat_2 - lat_1\n",
    "    result = 2 * asin(sqrt(sin(d_lat/2)**2 + cos(lat_1) * cos(lat_2) * sin(d_lon/2)**2)) \n",
    "\n",
    "    return 6371 * result\n",
    "    \n",
    "# function that traverses each row to calculate distance\n",
    "def calculate_distances(dataset):\n",
    "    distances = np.zeros(dataset.shape[0])\n",
    "    \n",
    "    for i in range(dataset.shape[0]):\n",
    "        distances[i] = haversine(dataset['pickup_longitude'][i], dataset['pickup_latitude'][i], dataset['dropoff_longitude'][i], dataset['dropoff_latitude'][i])\n",
    "    \n",
    "    return distances"
   ]
  },
  {
   "cell_type": "markdown",
   "metadata": {},
   "source": [
    "### Translating into meaningful data"
   ]
  },
  {
   "cell_type": "code",
   "execution_count": 4,
   "metadata": {},
   "outputs": [],
   "source": [
    "def prepare_data(dataset):    \n",
    "    # converting datetime to weekday, month, day\n",
    "    datetime = pd.to_datetime(dataset['pickup_datetime'])\n",
    "    day = datetime.dt.weekday  \n",
    "    month = datetime.dt.month\n",
    "    dataset['pickup_month'] = month.astype(float)\n",
    "    dataset['pickup_day'] = day.astype(float)\n",
    "    \n",
    "    # converting distances\n",
    "    distances = calculate_distances(dataset)\n",
    "    dataset['distance'] = distances\n",
    "    \n",
    "    dataset['constant'] = np.ones(len(dataset))\n",
    "    \n",
    "    # dropping useless columns\n",
    "    del dataset['pickup_longitude']\n",
    "    del dataset['pickup_latitude']\n",
    "    del dataset['dropoff_longitude']\n",
    "    del dataset['dropoff_latitude']\n",
    "    del dataset['pickup_datetime']\n",
    "    del dataset['id']\n",
    "    del dataset['store_and_fwd_flag']\n",
    "    \n",
    "    return dataset"
   ]
  },
  {
   "cell_type": "markdown",
   "metadata": {},
   "source": [
    "### Function to write test predictions to CSV"
   ]
  },
  {
   "cell_type": "code",
   "execution_count": 5,
   "metadata": {},
   "outputs": [],
   "source": [
    "def write_output(test_data, thetas):\n",
    "    ids = test_data['id']\n",
    "    del test_data['id']\n",
    "    test_data = test_data.values\n",
    "    \n",
    "    # generate preidctions using thetas\n",
    "    predictions = []\n",
    "    for i in range(len(test_data)):\n",
    "        predictions.append(np.dot(test_data[i], thetas))\n",
    "    \n",
    "    # prepare dataframe in given format\n",
    "    df = pd.DataFrame()\n",
    "    df['id'] = ids\n",
    "    df['trip_duration'] = predictions\n",
    "    \n",
    "    # save csv\n",
    "    df.to_csv('output.csv', encoding = 'utf-8', index = False)"
   ]
  },
  {
   "cell_type": "markdown",
   "metadata": {},
   "source": [
    "### Calling Functions"
   ]
  },
  {
   "cell_type": "code",
   "execution_count": 28,
   "metadata": {},
   "outputs": [],
   "source": [
    "# reading data\n",
    "\n",
    "training_data = pd.read_csv(\"train.csv\")\n",
    "test_data = pd.read_csv(\"test.csv\")"
   ]
  },
  {
   "cell_type": "code",
   "execution_count": 29,
   "metadata": {},
   "outputs": [],
   "source": [
    "# preparing data\n",
    "\n",
    "target = training_data['trip_duration']\n",
    "del training_data['trip_duration']\n",
    "\n",
    "training_data = prepare_data(training_data)\n",
    "\n",
    "test_id = test_data['id']\n",
    "\n",
    "test_data = prepare_data(test_data)\n",
    "\n",
    "test_data['id'] = test_id"
   ]
  },
  {
   "cell_type": "code",
   "execution_count": 30,
   "metadata": {},
   "outputs": [
    {
     "data": {
      "text/html": [
       "<div>\n",
       "<style scoped>\n",
       "    .dataframe tbody tr th:only-of-type {\n",
       "        vertical-align: middle;\n",
       "    }\n",
       "\n",
       "    .dataframe tbody tr th {\n",
       "        vertical-align: top;\n",
       "    }\n",
       "\n",
       "    .dataframe thead th {\n",
       "        text-align: right;\n",
       "    }\n",
       "</style>\n",
       "<table border=\"1\" class=\"dataframe\">\n",
       "  <thead>\n",
       "    <tr style=\"text-align: right;\">\n",
       "      <th></th>\n",
       "      <th>vendor_id</th>\n",
       "      <th>passenger_count</th>\n",
       "      <th>pickup_month</th>\n",
       "      <th>pickup_day</th>\n",
       "      <th>distance</th>\n",
       "      <th>constant</th>\n",
       "    </tr>\n",
       "  </thead>\n",
       "  <tbody>\n",
       "    <tr>\n",
       "      <th>0</th>\n",
       "      <td>1</td>\n",
       "      <td>1</td>\n",
       "      <td>2.0</td>\n",
       "      <td>3.0</td>\n",
       "      <td>3.904278</td>\n",
       "      <td>1.0</td>\n",
       "    </tr>\n",
       "    <tr>\n",
       "      <th>1</th>\n",
       "      <td>2</td>\n",
       "      <td>5</td>\n",
       "      <td>1.0</td>\n",
       "      <td>2.0</td>\n",
       "      <td>2.682692</td>\n",
       "      <td>1.0</td>\n",
       "    </tr>\n",
       "    <tr>\n",
       "      <th>2</th>\n",
       "      <td>2</td>\n",
       "      <td>1</td>\n",
       "      <td>6.0</td>\n",
       "      <td>6.0</td>\n",
       "      <td>3.721689</td>\n",
       "      <td>1.0</td>\n",
       "    </tr>\n",
       "    <tr>\n",
       "      <th>3</th>\n",
       "      <td>2</td>\n",
       "      <td>1</td>\n",
       "      <td>1.0</td>\n",
       "      <td>6.0</td>\n",
       "      <td>1.488411</td>\n",
       "      <td>1.0</td>\n",
       "    </tr>\n",
       "    <tr>\n",
       "      <th>4</th>\n",
       "      <td>2</td>\n",
       "      <td>1</td>\n",
       "      <td>6.0</td>\n",
       "      <td>1.0</td>\n",
       "      <td>1.234920</td>\n",
       "      <td>1.0</td>\n",
       "    </tr>\n",
       "  </tbody>\n",
       "</table>\n",
       "</div>"
      ],
      "text/plain": [
       "   vendor_id  passenger_count  pickup_month  pickup_day  distance  constant\n",
       "0          1                1           2.0         3.0  3.904278       1.0\n",
       "1          2                5           1.0         2.0  2.682692       1.0\n",
       "2          2                1           6.0         6.0  3.721689       1.0\n",
       "3          2                1           1.0         6.0  1.488411       1.0\n",
       "4          2                1           6.0         1.0  1.234920       1.0"
      ]
     },
     "execution_count": 30,
     "metadata": {},
     "output_type": "execute_result"
    }
   ],
   "source": [
    "training_data.head()"
   ]
  },
  {
   "cell_type": "code",
   "execution_count": 31,
   "metadata": {},
   "outputs": [
    {
     "name": "stdout",
     "output_type": "stream",
     "text": [
      "[243.32103042 -15.27024682   3.47184041   9.59402932 130.74648807\n",
      " 121.43993352]\n",
      "[244.46403508 -11.50629868   3.95996064   5.91024681 130.29564449\n",
      " 125.58395987]\n",
      "[255.6488877  -12.67079971  12.8761593   10.78052929 130.75856785\n",
      "  68.11841923]\n",
      "[260.46530127  -9.52949341   1.06271849   8.95148214 127.5958789\n",
      " 119.21630913]\n",
      "[268.8365219  -17.70087005   1.97401554   1.16924351 130.26596599\n",
      " 132.45687235]\n"
     ]
    }
   ],
   "source": [
    "# running gradient descent of 60K itrs, alpha 0.01, 5 times for random batches of 25K datapoints\n",
    "\n",
    "thetas = []\n",
    "\n",
    "training_data['id'] = target\n",
    "\n",
    "for i in range(5):\n",
    "    x = training_data.sample(frac=1)\n",
    "    y = x['id']\n",
    "    del x['id']\n",
    "    \n",
    "    x = x[0:25000]\n",
    "    y = y[0:25000]\n",
    "\n",
    "    theta = gradient_descent(x.values, y)\n",
    "    thetas.append(theta)\n",
    "    print (theta)"
   ]
  },
  {
   "cell_type": "code",
   "execution_count": 32,
   "metadata": {},
   "outputs": [],
   "source": [
    "# getting mean of thetas\n",
    "df = pd.DataFrame(thetas)\n",
    "thetas = df.mean().tolist()\n",
    "\n",
    "# writing output of predictions to csv\n",
    "write_output(test_data, thetas)"
   ]
  }
 ],
 "metadata": {
  "kernelspec": {
   "display_name": "Python 3",
   "language": "python",
   "name": "python3"
  },
  "language_info": {
   "codemirror_mode": {
    "name": "ipython",
    "version": 3
   },
   "file_extension": ".py",
   "mimetype": "text/x-python",
   "name": "python",
   "nbconvert_exporter": "python",
   "pygments_lexer": "ipython3",
   "version": "3.7.1"
  }
 },
 "nbformat": 4,
 "nbformat_minor": 2
}
